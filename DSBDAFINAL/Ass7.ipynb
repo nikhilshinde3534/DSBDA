{
 "cells": [
  {
   "cell_type": "code",
   "execution_count": 1,
   "id": "25be62b8",
   "metadata": {},
   "outputs": [],
   "source": [
    "import nltk"
   ]
  },
  {
   "cell_type": "code",
   "execution_count": 2,
   "id": "66eab313",
   "metadata": {},
   "outputs": [
    {
     "name": "stderr",
     "output_type": "stream",
     "text": [
      "[nltk_data] Downloading package punkt to\n",
      "[nltk_data]     C:\\Users\\HP\\AppData\\Roaming\\nltk_data...\n",
      "[nltk_data]   Unzipping tokenizers\\punkt.zip.\n",
      "[nltk_data] Downloading package stopwords to\n",
      "[nltk_data]     C:\\Users\\HP\\AppData\\Roaming\\nltk_data...\n",
      "[nltk_data]   Unzipping corpora\\stopwords.zip.\n",
      "[nltk_data] Downloading package wordnet to\n",
      "[nltk_data]     C:\\Users\\HP\\AppData\\Roaming\\nltk_data...\n",
      "[nltk_data] Downloading package averaged_perceptron_tagger to\n",
      "[nltk_data]     C:\\Users\\HP\\AppData\\Roaming\\nltk_data...\n",
      "[nltk_data]   Unzipping taggers\\averaged_perceptron_tagger.zip.\n"
     ]
    },
    {
     "data": {
      "text/plain": [
       "True"
      ]
     },
     "execution_count": 2,
     "metadata": {},
     "output_type": "execute_result"
    }
   ],
   "source": [
    "nltk.download('punkt')\n",
    "nltk.download('stopwords')\n",
    "nltk.download('wordnet')\n",
    "nltk.download('averaged_perceptron_tagger')"
   ]
  },
  {
   "cell_type": "code",
   "execution_count": 3,
   "id": "750f9aff",
   "metadata": {},
   "outputs": [],
   "source": [
    "text=\"Tokenization is the first step in text analytics. The process of breaking do\""
   ]
  },
  {
   "cell_type": "code",
   "execution_count": 4,
   "id": "07b6b780",
   "metadata": {},
   "outputs": [
    {
     "name": "stdout",
     "output_type": "stream",
     "text": [
      "['Tokenization is the first step in text analytics.', 'The process of breaking do']\n",
      "['Tokenization', 'is', 'the', 'first', 'step', 'in', 'text', 'analytics', '.', 'The', 'process', 'of', 'breaking', 'do']\n"
     ]
    }
   ],
   "source": [
    "from nltk.tokenize import sent_tokenize\n",
    "tokenized_text=sent_tokenize(text)\n",
    "print(tokenized_text)\n",
    "from nltk.tokenize import word_tokenize\n",
    "tokenized_word=word_tokenize(text)\n",
    "print(tokenized_word)"
   ]
  },
  {
   "cell_type": "code",
   "execution_count": 6,
   "id": "181bb688",
   "metadata": {},
   "outputs": [
    {
     "name": "stdout",
     "output_type": "stream",
     "text": [
      "{'some', \"you've\", 'not', 'in', 'you', 'which', 're', \"isn't\", 'few', 'y', 'himself', 'and', \"doesn't\", 't', 'yourselves', 'or', 'own', 'too', 'up', 'off', 'needn', 'be', 'shouldn', \"didn't\", 'do', 'nor', 've', 'than', \"shouldn't\", 'an', 'over', \"that'll\", 'being', 'into', 'themselves', 'was', 'how', 'ma', 'mightn', 'aren', 'is', 'itself', 'with', 'again', 'those', 'where', 'all', 'his', 'its', 'each', 'now', 'a', \"you're\", 'hers', \"it's\", 's', 'the', 'myself', \"couldn't\", 'above', 'wouldn', \"shan't\", 'they', 'who', 'down', 'd', 'will', 'so', \"you'd\", 'herself', 'while', 'shan', 'won', \"mightn't\", 'he', 'no', 'she', 'mustn', 'them', 'because', 'below', 'what', 'on', 'ourselves', \"needn't\", 'same', 'had', \"haven't\", 'yours', 'our', 'there', \"should've\", 'are', 'm', 'before', 'has', 'hadn', 'wasn', 'by', 'from', 'between', 'through', 'but', 'i', \"don't\", \"weren't\", 'then', 'does', 'don', 'further', 'ours', 'should', 'as', 'most', 'that', 'were', 'your', 'ain', \"hadn't\", 'only', 'after', 'couldn', \"she's\", 'did', 'haven', 'it', 'if', \"you'll\", 'been', 'yourself', 'more', 'these', 'under', 'both', 'of', 'for', 'at', 'to', 'll', 'such', 'any', 'we', 'my', 'have', 'about', 'whom', 'here', 'against', 'me', 'this', 'very', \"wasn't\", 'having', \"wouldn't\", 'isn', 'out', 'o', 'am', 'hasn', 'their', 'didn', 'her', 'when', 'doing', 'during', 'theirs', 'once', \"aren't\", \"won't\", 'other', 'just', 'weren', 'can', \"mustn't\", 'until', \"hasn't\", 'why', 'doesn', 'him'}\n",
      "Tokenized Sentence: ['how', 'to', 'remove', 'stop', 'words', 'with', 'nltk', 'library', 'in', 'python']\n",
      "Filterd Sentence: ['remove', 'stop', 'words', 'nltk', 'library', 'python']\n"
     ]
    }
   ],
   "source": [
    "import re\n",
    "from nltk.corpus import stopwords\n",
    "stop_words=set(stopwords.words(\"english\"))\n",
    "print(stop_words)\n",
    "text=\"How to remove stop words with NLTK library in python?\"\n",
    "text=re.sub('[^a-zA-Z]', ' ',text)\n",
    "tokens=word_tokenize(text.lower())\n",
    "filtered_text=[]\n",
    "for w in tokens :\n",
    "    if w not in stop_words:\n",
    "        filtered_text.append(w)\n",
    "print(\"Tokenized Sentence:\",tokens)\n",
    "print(\"Filterd Sentence:\",filtered_text)"
   ]
  },
  {
   "cell_type": "code",
   "execution_count": 8,
   "id": "521859af",
   "metadata": {},
   "outputs": [
    {
     "name": "stdout",
     "output_type": "stream",
     "text": [
      "wait\n"
     ]
    }
   ],
   "source": [
    "from nltk.stem import PorterStemmer\n",
    "e_words=[\"wait\",\"waiting\",\"waited\",\"waits\"]\n",
    "ps=PorterStemmer()\n",
    "for w in e_words:\n",
    "    rootWord=ps.stem(w)\n",
    "print(rootWord)"
   ]
  },
  {
   "cell_type": "code",
   "execution_count": 11,
   "id": "6362ff9b",
   "metadata": {},
   "outputs": [
    {
     "ename": "AttributeError",
     "evalue": "'WordNetLemmatizer' object has no attribute 'lemmatizer'",
     "output_type": "error",
     "traceback": [
      "\u001b[1;31m---------------------------------------------------------------------------\u001b[0m",
      "\u001b[1;31mAttributeError\u001b[0m                            Traceback (most recent call last)",
      "Cell \u001b[1;32mIn[11], line 6\u001b[0m\n\u001b[0;32m      4\u001b[0m tokenization\u001b[38;5;241m=\u001b[39mnltk\u001b[38;5;241m.\u001b[39mword_tokenize(text)\n\u001b[0;32m      5\u001b[0m \u001b[38;5;28;01mfor\u001b[39;00m w \u001b[38;5;129;01min\u001b[39;00m tokenization:\n\u001b[1;32m----> 6\u001b[0m     \u001b[38;5;28mprint\u001b[39m(\u001b[38;5;124m\"\u001b[39m\u001b[38;5;124mLemma for \u001b[39m\u001b[38;5;132;01m{}\u001b[39;00m\u001b[38;5;124m is \u001b[39m\u001b[38;5;132;01m{}\u001b[39;00m\u001b[38;5;124m\"\u001b[39m\u001b[38;5;241m.\u001b[39mformat(w,wordnet_lemmatizer\u001b[38;5;241m.\u001b[39mlemmatizer(w)))\n",
      "\u001b[1;31mAttributeError\u001b[0m: 'WordNetLemmatizer' object has no attribute 'lemmatizer'"
     ]
    }
   ],
   "source": [
    "from nltk.stem import WordNetLemmatizer\n",
    "wordnet_lemmatizer=WordNetLemmatizer()\n",
    "text=\"Studies studying cries cry\"\n",
    "tokenization=nltk.word_tokenize(text)\n",
    "for w in tokenization:\n",
    "    print(\"Lemma for {} is {}\".format(w,wordnet_lemmatizer.lemmatize(w)))"
   ]
  },
  {
   "cell_type": "code",
   "execution_count": null,
   "id": "8b89456b",
   "metadata": {},
   "outputs": [],
   "source": []
  }
 ],
 "metadata": {
  "kernelspec": {
   "display_name": "Python 3 (ipykernel)",
   "language": "python",
   "name": "python3"
  },
  "language_info": {
   "codemirror_mode": {
    "name": "ipython",
    "version": 3
   },
   "file_extension": ".py",
   "mimetype": "text/x-python",
   "name": "python",
   "nbconvert_exporter": "python",
   "pygments_lexer": "ipython3",
   "version": "3.11.3"
  }
 },
 "nbformat": 4,
 "nbformat_minor": 5
}
